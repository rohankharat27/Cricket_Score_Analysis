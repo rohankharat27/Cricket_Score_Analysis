#this is .ipynb code for cricket match score analysis of indian team
import pandas as pd

data = {
    'Player': [
        'Rohit Sharma', 'KL Rahul', 'Virat Kohli', 'Suryakumar Yadav', 'Hardik Pandya',
        'MS Dhoni', 'Ravindra Jadeja', 'Bhuvneshwar Kumar', 'Jasprit Bumrah',
        'Yuzvendra Chahal', 'Mohammed Shami'
    ],
    'Runs': [45, 62, 38, 75, 25, 50, 15, 10, 0, 5, 0],
    'Wickets': [0, 0, 0, 0, 1, 0, 2, 3, 1, 2, 4],
    'Balls Faced': [38, 50, 42, 55, 20, 45, 12, 8, 2, 4, 1],
    'Balls Bowled': [0, 0, 0, 0, 4, 0, 10, 10, 10, 10, 10]
}

match_data = pd.DataFrame(data)

# Total Runs
total_runs = match_data['Runs'].sum()
print(" Total Runs Scored by Team:", total_runs)

# Batting Average
match_data['Batting Average'] = match_data.apply(
    lambda row: row['Runs'] / row['Balls Faced'] if row['Balls Faced'] > 0 else 0, axis=1
)
print("\n Batting Averages:\n", match_data[['Player', 'Batting Average']])

# Bowling Strike Rate
bowlers = match_data[match_data['Balls Bowled'] > 0].copy()
bowlers['Bowling Strike Rate'] = bowlers.apply(
    lambda row: row['Balls Bowled'] / row['Wickets'] if row['Wickets'] > 0 else 0, axis=1
)
print("\n Bowling Strike Rates:\n", bowlers[['Player', 'Bowling Strike Rate']])

# Top performers
top_scorer = match_data.loc[match_data['Runs'].idxmax(), 'Player']
print("\n Top Run-scorer:", top_scorer)

top_wicket_taker = match_data.loc[match_data['Wickets'].idxmax(), 'Player']
print(" Top Wicket-taker:", top_wicket_taker)

# Points system
match_data['Points'] = (match_data['Runs'] // 10) + (match_data['Wickets'] * 20)
print("\n Player Points:\n", match_data[['Player', 'Points']])

# Save CSV
match_data.to_csv("cricket_analysis_output.csv", index=False)
