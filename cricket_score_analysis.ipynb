{
 "cells": [
  {
   "cell_type": "code",
   "execution_count": null,
   "id": "a8b081aa-a6c0-47b7-a4a4-47e01d5fdf8b",
   "metadata": {},
   "outputs": [],
   "source": [
    "import pandas as pd\n",
    "\n",
    "data = {\n",
    "    'Player': [\n",
    "        'Rohit Sharma', 'KL Rahul', 'Virat Kohli', 'Suryakumar Yadav', 'Hardik Pandya',\n",
    "        'MS Dhoni', 'Ravindra Jadeja', 'Bhuvneshwar Kumar', 'Jasprit Bumrah',\n",
    "        'Yuzvendra Chahal', 'Mohammed Shami'\n",
    "    ],\n",
    "    'Runs': [45, 62, 38, 75, 25, 50, 15, 10, 0, 5, 0],\n",
    "    'Wickets': [0, 0, 0, 0, 1, 0, 2, 3, 1, 2, 4],\n",
    "    'Balls Faced': [38, 50, 42, 55, 20, 45, 12, 8, 2, 4, 1],\n",
    "    'Balls Bowled': [0, 0, 0, 0, 4, 0, 10, 10, 10, 10, 10]\n",
    "}\n",
    "\n",
    "match_data = pd.DataFrame(data)\n",
    "\n",
    "# Total Runs\n",
    "total_runs = match_data['Runs'].sum()\n",
    "print(\"🏏 Total Runs Scored by Team:\", total_runs)\n",
    "\n",
    "# Batting Average\n",
    "match_data['Batting Average'] = match_data.apply(\n",
    "    lambda row: row['Runs'] / row['Balls Faced'] if row['Balls Faced'] > 0 else 0, axis=1\n",
    ")\n",
    "print(\"\\n📊 Batting Averages:\\n\", match_data[['Player', 'Batting Average']])\n",
    "\n",
    "# Bowling Strike Rate\n",
    "bowlers = match_data[match_data['Balls Bowled'] > 0].copy()\n",
    "bowlers['Bowling Strike Rate'] = bowlers.apply(\n",
    "    lambda row: row['Balls Bowled'] / row['Wickets'] if row['Wickets'] > 0 else 0, axis=1\n",
    ")\n",
    "print(\"\\n🎯 Bowling Strike Rates:\\n\", bowlers[['Player', 'Bowling Strike Rate']])\n",
    "\n",
    "# Top performers\n",
    "top_scorer = match_data.loc[match_data['Runs'].idxmax(), 'Player']\n",
    "print(\"\\n🏆 Top Run-scorer:\", top_scorer)\n",
    "\n",
    "top_wicket_taker = match_data.loc[match_data['Wickets'].idxmax(), 'Player']\n",
    "print(\"🥇 Top Wicket-taker:\", top_wicket_taker)\n",
    "\n",
    "# Points system\n",
    "match_data['Points'] = (match_data['Runs'] // 10) + (match_data['Wickets'] * 20)\n",
    "print(\"\\n🔢 Player Points:\\n\", match_data[['Player', 'Points']])\n",
    "\n",
    "# Save CSV\n",
    "match_data.to_csv(\"cricket_analysis_output.csv\", index=False)\n"
   ]
  }
 ],
 "metadata": {
  "kernelspec": {
   "display_name": "Python [conda env:base] *",
   "language": "python",
   "name": "conda-base-py"
  },
  "language_info": {
   "codemirror_mode": {
    "name": "ipython",
    "version": 3
   },
   "file_extension": ".py",
   "mimetype": "text/x-python",
   "name": "python",
   "nbconvert_exporter": "python",
   "pygments_lexer": "ipython3",
   "version": "3.12.7"
  }
 },
 "nbformat": 4,
 "nbformat_minor": 5
}
